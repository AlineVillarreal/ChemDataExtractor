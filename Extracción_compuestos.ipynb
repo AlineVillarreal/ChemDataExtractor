{
  "nbformat": 4,
  "nbformat_minor": 0,
  "metadata": {
    "colab": {
      "provenance": [],
      "collapsed_sections": [],
      "include_colab_link": true
    },
    "kernelspec": {
      "name": "python3",
      "display_name": "Python 3"
    },
    "language_info": {
      "name": "python"
    }
  },
  "cells": [
    {
      "cell_type": "markdown",
      "metadata": {
        "id": "view-in-github",
        "colab_type": "text"
      },
      "source": [
        "<a href=\"https://colab.research.google.com/github/AlineVillarreal/ChemDataExtractor/blob/Nuevaspropiedades/Extracci%C3%B3n_compuestos.ipynb\" target=\"_parent\"><img src=\"https://colab.research.google.com/assets/colab-badge.svg\" alt=\"Open In Colab\"/></a>"
      ]
    },
    {
      "cell_type": "code",
      "execution_count": null,
      "metadata": {
        "colab": {
          "base_uri": "https://localhost:8080/"
        },
        "id": "140jwQ5UKzUJ",
        "outputId": "1e78ba5d-27aa-40cc-dd7e-eaa607919b80"
      },
      "outputs": [
        {
          "output_type": "stream",
          "name": "stdout",
          "text": [
            "Looking in indexes: https://pypi.org/simple, https://us-python.pkg.dev/colab-wheels/public/simple/\n",
            "Collecting chemdataextractor\n",
            "  Downloading ChemDataExtractor-1.3.0-py3-none-any.whl (182 kB)\n",
            "\u001b[K     |████████████████████████████████| 182 kB 5.1 MB/s \n",
            "\u001b[?25hCollecting python-crfsuite\n",
            "  Downloading python_crfsuite-0.9.8-cp37-cp37m-manylinux_2_17_x86_64.manylinux2014_x86_64.whl (965 kB)\n",
            "\u001b[K     |████████████████████████████████| 965 kB 35.5 MB/s \n",
            "\u001b[?25hRequirement already satisfied: requests in /usr/local/lib/python3.7/dist-packages (from chemdataextractor) (2.23.0)\n",
            "Requirement already satisfied: beautifulsoup4 in /usr/local/lib/python3.7/dist-packages (from chemdataextractor) (4.6.3)\n",
            "Requirement already satisfied: python-dateutil in /usr/local/lib/python3.7/dist-packages (from chemdataextractor) (2.8.2)\n",
            "Collecting pdfminer.six\n",
            "  Downloading pdfminer.six-20220524-py3-none-any.whl (5.6 MB)\n",
            "\u001b[K     |████████████████████████████████| 5.6 MB 37.9 MB/s \n",
            "\u001b[?25hRequirement already satisfied: nltk in /usr/local/lib/python3.7/dist-packages (from chemdataextractor) (3.7)\n",
            "Requirement already satisfied: appdirs in /usr/local/lib/python3.7/dist-packages (from chemdataextractor) (1.4.4)\n",
            "Requirement already satisfied: PyYAML in /usr/local/lib/python3.7/dist-packages (from chemdataextractor) (6.0)\n",
            "Collecting cssselect\n",
            "  Downloading cssselect-1.2.0-py2.py3-none-any.whl (18 kB)\n",
            "Requirement already satisfied: six in /usr/local/lib/python3.7/dist-packages (from chemdataextractor) (1.15.0)\n",
            "Collecting DAWG\n",
            "  Downloading DAWG-0.8.0.tar.gz (371 kB)\n",
            "\u001b[K     |████████████████████████████████| 371 kB 75.7 MB/s \n",
            "\u001b[?25hRequirement already satisfied: click in /usr/local/lib/python3.7/dist-packages (from chemdataextractor) (7.1.2)\n",
            "Requirement already satisfied: lxml in /usr/local/lib/python3.7/dist-packages (from chemdataextractor) (4.9.1)\n",
            "Requirement already satisfied: regex>=2021.8.3 in /usr/local/lib/python3.7/dist-packages (from nltk->chemdataextractor) (2022.6.2)\n",
            "Requirement already satisfied: tqdm in /usr/local/lib/python3.7/dist-packages (from nltk->chemdataextractor) (4.64.1)\n",
            "Requirement already satisfied: joblib in /usr/local/lib/python3.7/dist-packages (from nltk->chemdataextractor) (1.2.0)\n",
            "Collecting cryptography>=36.0.0\n",
            "  Downloading cryptography-38.0.1-cp36-abi3-manylinux_2_24_x86_64.whl (4.0 MB)\n",
            "\u001b[K     |████████████████████████████████| 4.0 MB 38.5 MB/s \n",
            "\u001b[?25hRequirement already satisfied: charset-normalizer>=2.0.0 in /usr/local/lib/python3.7/dist-packages (from pdfminer.six->chemdataextractor) (2.1.1)\n",
            "Requirement already satisfied: cffi>=1.12 in /usr/local/lib/python3.7/dist-packages (from cryptography>=36.0.0->pdfminer.six->chemdataextractor) (1.15.1)\n",
            "Requirement already satisfied: pycparser in /usr/local/lib/python3.7/dist-packages (from cffi>=1.12->cryptography>=36.0.0->pdfminer.six->chemdataextractor) (2.21)\n",
            "Requirement already satisfied: chardet<4,>=3.0.2 in /usr/local/lib/python3.7/dist-packages (from requests->chemdataextractor) (3.0.4)\n",
            "Requirement already satisfied: urllib3!=1.25.0,!=1.25.1,<1.26,>=1.21.1 in /usr/local/lib/python3.7/dist-packages (from requests->chemdataextractor) (1.24.3)\n",
            "Requirement already satisfied: idna<3,>=2.5 in /usr/local/lib/python3.7/dist-packages (from requests->chemdataextractor) (2.10)\n",
            "Requirement already satisfied: certifi>=2017.4.17 in /usr/local/lib/python3.7/dist-packages (from requests->chemdataextractor) (2022.9.24)\n",
            "Building wheels for collected packages: DAWG\n",
            "  Building wheel for DAWG (setup.py) ... \u001b[?25l\u001b[?25hdone\n",
            "  Created wheel for DAWG: filename=DAWG-0.8.0-cp37-cp37m-linux_x86_64.whl size=844318 sha256=0b9401ff76c94e889a0e89739378fcdbc6806c99f6ba4df74c3d81657665f413\n",
            "  Stored in directory: /root/.cache/pip/wheels/85/51/a4/2de41ff197786537075027c27b479a38da92f50abc86634445\n",
            "Successfully built DAWG\n",
            "Installing collected packages: cryptography, python-crfsuite, pdfminer.six, DAWG, cssselect, chemdataextractor\n",
            "Successfully installed DAWG-0.8.0 chemdataextractor-1.3.0 cryptography-38.0.1 cssselect-1.2.0 pdfminer.six-20220524 python-crfsuite-0.9.8\n",
            "INFO:chemdataextractor.data:Downloading http://data.chemdataextractor.org/models/cem_crf-1.0.pickle to /root/.local/share/ChemDataExtractor/models/cem_crf-1.0.pickle\n",
            "INFO:chemdataextractor.data:Downloading http://data.chemdataextractor.org/models/cem_crf_chemdner_cemp-1.0.pickle to /root/.local/share/ChemDataExtractor/models/cem_crf_chemdner_cemp-1.0.pickle\n",
            "INFO:chemdataextractor.data:Downloading http://data.chemdataextractor.org/models/cem_dict_cs-1.0.pickle to /root/.local/share/ChemDataExtractor/models/cem_dict_cs-1.0.pickle\n",
            "INFO:chemdataextractor.data:Downloading http://data.chemdataextractor.org/models/cem_dict-1.0.pickle to /root/.local/share/ChemDataExtractor/models/cem_dict-1.0.pickle\n",
            "INFO:chemdataextractor.data:Downloading http://data.chemdataextractor.org/models/clusters_chem1500-1.0.pickle to /root/.local/share/ChemDataExtractor/models/clusters_chem1500-1.0.pickle\n",
            "INFO:chemdataextractor.data:Downloading http://data.chemdataextractor.org/models/pos_ap_genia_nocluster-1.0.pickle to /root/.local/share/ChemDataExtractor/models/pos_ap_genia_nocluster-1.0.pickle\n",
            "INFO:chemdataextractor.data:Downloading http://data.chemdataextractor.org/models/pos_ap_genia-1.0.pickle to /root/.local/share/ChemDataExtractor/models/pos_ap_genia-1.0.pickle\n",
            "INFO:chemdataextractor.data:Downloading http://data.chemdataextractor.org/models/pos_ap_wsj_genia_nocluster-1.0.pickle to /root/.local/share/ChemDataExtractor/models/pos_ap_wsj_genia_nocluster-1.0.pickle\n",
            "INFO:chemdataextractor.data:Downloading http://data.chemdataextractor.org/models/pos_ap_wsj_genia-1.0.pickle to /root/.local/share/ChemDataExtractor/models/pos_ap_wsj_genia-1.0.pickle\n",
            "INFO:chemdataextractor.data:Downloading http://data.chemdataextractor.org/models/pos_ap_wsj_nocluster-1.0.pickle to /root/.local/share/ChemDataExtractor/models/pos_ap_wsj_nocluster-1.0.pickle\n",
            "INFO:chemdataextractor.data:Downloading http://data.chemdataextractor.org/models/pos_ap_wsj-1.0.pickle to /root/.local/share/ChemDataExtractor/models/pos_ap_wsj-1.0.pickle\n",
            "INFO:chemdataextractor.data:Downloading http://data.chemdataextractor.org/models/pos_crf_genia_nocluster-1.0.pickle to /root/.local/share/ChemDataExtractor/models/pos_crf_genia_nocluster-1.0.pickle\n",
            "INFO:chemdataextractor.data:Downloading http://data.chemdataextractor.org/models/pos_crf_genia-1.0.pickle to /root/.local/share/ChemDataExtractor/models/pos_crf_genia-1.0.pickle\n",
            "INFO:chemdataextractor.data:Downloading http://data.chemdataextractor.org/models/pos_crf_wsj_genia_nocluster-1.0.pickle to /root/.local/share/ChemDataExtractor/models/pos_crf_wsj_genia_nocluster-1.0.pickle\n",
            "INFO:chemdataextractor.data:Downloading http://data.chemdataextractor.org/models/pos_crf_wsj_genia-1.0.pickle to /root/.local/share/ChemDataExtractor/models/pos_crf_wsj_genia-1.0.pickle\n",
            "INFO:chemdataextractor.data:Downloading http://data.chemdataextractor.org/models/pos_crf_wsj_nocluster-1.0.pickle to /root/.local/share/ChemDataExtractor/models/pos_crf_wsj_nocluster-1.0.pickle\n",
            "INFO:chemdataextractor.data:Downloading http://data.chemdataextractor.org/models/pos_crf_wsj-1.0.pickle to /root/.local/share/ChemDataExtractor/models/pos_crf_wsj-1.0.pickle\n",
            "INFO:chemdataextractor.data:Downloading http://data.chemdataextractor.org/models/punkt_chem-1.0.pickle to /root/.local/share/ChemDataExtractor/models/punkt_chem-1.0.pickle\n",
            "Successfully downloaded 18 new data packages (0 existing)\n"
          ]
        }
      ],
      "source": [
        "!pip install chemdataextractor\n",
        "!cde data download"
      ]
    },
    {
      "cell_type": "code",
      "source": [
        "from chemdataextractor.doc import Document"
      ],
      "metadata": {
        "id": "_5XxFO-RLiMK"
      },
      "execution_count": null,
      "outputs": []
    },
    {
      "cell_type": "code",
      "source": [
        "from chemdataextractor.model import Compound"
      ],
      "metadata": {
        "id": "505_IlF1LvFG"
      },
      "execution_count": null,
      "outputs": []
    },
    {
      "cell_type": "code",
      "source": [
        "from chemdataextractor.doc import Text, Title, Heading, Paragraph, Footnote, Citation, Caption, Sentence, Span, Token"
      ],
      "metadata": {
        "id": "CGBEnqEhL2DP"
      },
      "execution_count": null,
      "outputs": []
    },
    {
      "cell_type": "code",
      "source": [
        "from chemdataextractor.parse.cem import CompoundParser, ChemicalLabelParser, CompoundHeadingParser"
      ],
      "metadata": {
        "id": "rkZbFQ8NMKcr"
      },
      "execution_count": null,
      "outputs": []
    },
    {
      "cell_type": "code",
      "source": [
        "d = Document(\n",
        "    Paragraph(u'The effect of chelating agent on hidrodesulfurization reaction of ordered mesoporous alumina supported NiMo catalysts'), \n",
        "    Paragraph(u'The effect of chelating agent on hidrodesulfurization reaction of ordered mesoporous alumnina supported NiMo catalysts. The supported NiMo catalyst precursor was prepared by incipient wetness impregnation method with mass fraction loadings of 3.5 wt% NiO and 15 wt% MoO3 respectively. NiMo/OMA catalyst precursor was obtained by dried at 80 °C for 5 h and calcined at 550 °C for 6 h.')\n",
        "    )\n",
        "\n"
      ],
      "metadata": {
        "id": "IiJ3CMCbO4n0"
      },
      "execution_count": null,
      "outputs": []
    },
    {
      "cell_type": "code",
      "source": [
        "Coumans_Paragraph=Document(\n",
        "    Paragraph(u'A set of supported NiMo-NTA (NTA = nitrilotriacetic acid) catalysts was prepared by pore volume impregnation. For impregnation, the water pore volume of the supports was determined in triplo.For impregnation, the water pore volume of the supports was determined in triplo. The ASA support was prepared by homogeneous deposition-precipitation of Al3+ on silica (∼5 wt% Al2O3 on SiO2) followed by calcination [45]. γ-alumina (Ketjen CK-300), silica (Shell) and activated carbon (NORIT RX-3 extra) were used as received. The acidic properties of the used ASA, SiO2 and Al2O3 have been reported elsewhere [46]. The textural properties of all support materials are collected in Table 1. Prior to impregnation, a sieved fraction of these materials (125–250 μm) was dried overnight at 110 °C. For NiMo-NTA catalysts, the impregnation solution contained the chelating agent nitrilotriacetic acid (VWR, 99% purity), ammonium heptamolybdate (Merck, 99% purity) and nickel nitrate (VWR, 99% purity) in concentrations to obtain a final Mo loading of 8 wt% and an atomic Ni/Mo ratio of 0.3. The molar NTA to Mo ratio was 1.2 [35]. The catalysts were dried at room temperature for 1 h, dried overnight at 110 °C. They were grinded and sieved to obtain particles with sizes between 125 μm and 250 μm. The Mo loading and the Ni/Mo atomic ratio of were determined by ICP-OES elemental analysis (Spectro CIROS CCD spectrometer, samples dissolved in 1/1/1 vol mixture of HF/HNO3/H2O). '),\n",
        ")\n",
        "Coumans_Compounds=Coumans_Paragraph.records.serialize() #Crea un diccionario de python\n",
        "print(type(Coumans_Compounds)) \n",
        "print(len(Coumans_Compounds))"
      ],
      "metadata": {
        "colab": {
          "base_uri": "https://localhost:8080/"
        },
        "id": "uM6jAPiOEJp9",
        "outputId": "963ff297-86cb-4ceb-e5aa-079e3940201b"
      },
      "execution_count": null,
      "outputs": [
        {
          "output_type": "stream",
          "name": "stdout",
          "text": [
            "<class 'list'>\n",
            "17\n"
          ]
        }
      ]
    },
    {
      "cell_type": "code",
      "source": [
        "print(Coumans_Compounds) #Las listas en Python están indexadas desde 0. [0,1,2,3,...]"
      ],
      "metadata": {
        "colab": {
          "base_uri": "https://localhost:8080/"
        },
        "id": "3vNBvqbqEiik",
        "outputId": "184dadc9-a731-47ae-a05e-707494a2478e"
      },
      "execution_count": null,
      "outputs": [
        {
          "output_type": "stream",
          "name": "stdout",
          "text": [
            "[{'names': ['Al3+']}, {'names': ['γ-alumina']}, {'names': ['Ketjen']}, {'names': ['carbon']}, {'names': ['ASA']}, {'names': ['ammonium heptamolybdate']}, {'names': ['nickel nitrate']}, {'names': ['HNO3']}, {'names': ['H2O']}, {'names': ['NiMo']}, {'names': ['nitrilotriacetic acid']}, {'names': ['silica']}, {'names': ['Al2O3']}, {'names': ['SiO2']}, {'names': ['Ni']}, {'names': ['NTA', 'nitrilotriacetic']}, {'names': ['Mo']}]\n"
          ]
        }
      ]
    },
    {
      "cell_type": "code",
      "source": [
        "print(Coumans_Compounds[0])"
      ],
      "metadata": {
        "colab": {
          "base_uri": "https://localhost:8080/"
        },
        "id": "ESJBPwzjFJeq",
        "outputId": "cf020e3b-39aa-4617-c03a-00d98308d33d"
      },
      "execution_count": null,
      "outputs": [
        {
          "output_type": "stream",
          "name": "stdout",
          "text": [
            "{'names': ['Al3+']}\n"
          ]
        }
      ]
    },
    {
      "cell_type": "code",
      "source": [
        "my_list=[] #Definir una lista nueva con cero elementos \n",
        "print(len(my_list))"
      ],
      "metadata": {
        "colab": {
          "base_uri": "https://localhost:8080/"
        },
        "id": "Mo8EhLyPFk1s",
        "outputId": "f64a205d-0698-42af-ebda-d0550a899bca"
      },
      "execution_count": null,
      "outputs": [
        {
          "output_type": "stream",
          "name": "stdout",
          "text": [
            "0\n"
          ]
        }
      ]
    },
    {
      "cell_type": "code",
      "source": [
        "for i in Coumans_Compounds:\n",
        "    my_list.append((i)) #Adiciona un elemento a la lista \n",
        "  "
      ],
      "metadata": {
        "id": "SsX12gf3Fozz"
      },
      "execution_count": null,
      "outputs": []
    },
    {
      "cell_type": "code",
      "source": [
        "for i in Coumans_Compounds:\n",
        "    my_list.append((i))\n",
        "\n",
        "#print(my_list)\n",
        "\n",
        "Element1=Coumans_Compounds[0]\n",
        "Name1=Element1.values()\n",
        "print(Name1)\n"
      ],
      "metadata": {
        "id": "yo2ohDHKr0Ox",
        "colab": {
          "base_uri": "https://localhost:8080/"
        },
        "outputId": "e6d8c9f3-61f0-4eab-c6e9-b1ddf741c079"
      },
      "execution_count": null,
      "outputs": [
        {
          "output_type": "stream",
          "name": "stdout",
          "text": [
            "dict_values([['Al3+']])\n"
          ]
        }
      ]
    },
    {
      "cell_type": "code",
      "source": [
        "import numpy as np\n",
        "\n",
        "rows=Coumans_Compounds\n",
        "\n",
        "file1=open('GFG.csv', 'w+')\n",
        "\n",
        "np.savetxt(\"GFG.csv\", \n",
        "           rows,\n",
        "           delimiter =\", \", \n",
        "           fmt ='% s')"
      ],
      "metadata": {
        "id": "_KgqcpR0YEDW"
      },
      "execution_count": null,
      "outputs": []
    },
    {
      "cell_type": "code",
      "source": [
        "articulo_1=Document(\n",
        "    Paragraph(u'The parent NiMo catalyst has been prepared using a ground commercial 􀈖-Al2O3 support (SBET = 200 m2g-1, total volume of pores = 0.40 cm3g-1, average radius of the pores = 3.2 nm, particle size fraction = 0.16-0.32 mm). The support was impregnated with an aqueous solution of the ammonium salt of nickel'),\n",
        "    Paragraph(u'heteropolyoxomolybdate, (NH4)4Ni(OH)6Mo6O18 (NiMo6), synthesized according to [22] to obtain a catalyst with 12 wt% of Mo and 1.1 wt% of Ni. Impregnation with nickel heteropolyoxomolybdate was performed in a vacuum evaporator at 70 oC. Then the impregnated support was dried for 4 h at 105 oC and calcined for 2 h at 350 oC. The catalyst is referred to as NiMo6/Al (i.e. unmodified')\n",
        ")"
      ],
      "metadata": {
        "id": "DbLnxsxMtCax"
      },
      "execution_count": null,
      "outputs": []
    },
    {
      "cell_type": "code",
      "source": [
        "Compounds_articulo_1=articulo_1.records.serialize()"
      ],
      "metadata": {
        "id": "N5BXw-gItrHl"
      },
      "execution_count": null,
      "outputs": []
    },
    {
      "cell_type": "code",
      "source": [
        "print(Compounds_articulo_1)"
      ],
      "metadata": {
        "colab": {
          "base_uri": "https://localhost:8080/"
        },
        "id": "WU_eLWC0t-jP",
        "outputId": "ae2d3fb7-6742-420a-ebc9-18d7b3653034"
      },
      "execution_count": null,
      "outputs": [
        {
          "output_type": "stream",
          "name": "stdout",
          "text": [
            "[{'names': ['NiMo']}, {'names': ['-Al2O3']}, {'names': ['ammonium']}, {'names': ['nickel']}, {'names': ['heteropolyoxomolybdate, (NH4)4Ni(OH)6Mo6O18']}, {'names': ['Mo']}, {'names': ['Ni']}, {'names': ['nickel heteropolyoxomolybdate']}, {'names': ['Al']}, {'names': ['NiMo6', '(NH4)4Ni(OH)6Mo6O18']}]\n"
          ]
        }
      ]
    },
    {
      "cell_type": "code",
      "source": [
        "articulo_2=Document(\n",
        "    Paragraph(u'The supported NiMo catalyst precursor was prepared by incipient wetness impregnation method with the mass fraction loadings of 3.5 wt% NiO and 15 wt% MoO3 respectively. NiMo/OMA catalyst precursor was obtained by dried at 80 °C for 5 h and calcined at 550 °C for 6 h.The modified catalysts were prepared the same as above, except that different proportions of EDTA chelating agent are added during the impregnation process. The synthesized catalysts were named as NiMoE(X)/OMA, where X represents the ratio of EDTA/Ni.')\n",
        "    \n",
        ")"
      ],
      "metadata": {
        "id": "YTXY0ajMabCu"
      },
      "execution_count": null,
      "outputs": []
    },
    {
      "cell_type": "code",
      "source": [
        "Compounds_articulo_2=articulo_2.records.serialize()"
      ],
      "metadata": {
        "id": "Rwn4ZTFmcwch"
      },
      "execution_count": null,
      "outputs": []
    },
    {
      "cell_type": "code",
      "source": [
        "print(Compounds_articulo_2)"
      ],
      "metadata": {
        "colab": {
          "base_uri": "https://localhost:8080/"
        },
        "id": "5bRupp1Ac-Qg",
        "outputId": "b359b38d-e0c2-475b-d815-ad8c8b28f279"
      },
      "execution_count": null,
      "outputs": [
        {
          "output_type": "stream",
          "name": "stdout",
          "text": [
            "[{'names': ['NiO']}, {'names': ['MoO3']}, {'names': ['Ni']}, {'names': ['NiMo']}, {'names': ['EDTA']}]\n"
          ]
        }
      ]
    },
    {
      "cell_type": "code",
      "source": [
        "articulo_3=Document(\n",
        "    Paragraph(u'Pt-containing Co-Mo catalysts were prepared in two different ways: (i) by post impregnation of Pt onto a commercial (unsulfided) Co-Mo/Al2O3 catalyst (16 wt% Mo and 3.5 wt% Co) and (ii) to illustrate the feasibility of a more industrially acceptable preparation route, by incipient wetness impregnation of alumina carrier extrudates with a Co-Mo liquor into which Pt had been incorporated. For the former preparation method [Pt(acac)2] (acac = acetylacetonate), corresponding to the desired wt% of Pt on the final catalyst, was dissolved in a volume of dichloromethane (DCM) corresponding to the pore volume, as determined by mercury porosimetry, of the oxidic Co-Mo catalyst to be modified. After 30 min impregnation time, the sample was air dried at room temperature for 30 min followed by drying at 250 °C in air for 1 h. For the latter preparation method, [Pt(NH3)4](HCO3)2 was dissolved into a commercial Co-Mo liquor, followed by pore volume filling impregnation of an alumina carrier. This also yielded catalysts with 16 wt% Mo and 3.5 wt% Co. After preparation the catalysts obtained by one or the other method differed neither in chemical properties nor activity within the uncertainty of the activity measurements. Samples with a specific nominal loading of Pt are in the following referred to as Pt-Co-Mo(wt%).')\n",
        "    \n",
        ")"
      ],
      "metadata": {
        "id": "_VQQ2yjVdWsE"
      },
      "execution_count": null,
      "outputs": []
    },
    {
      "cell_type": "code",
      "source": [
        "Compounds_articulo_3=articulo_3.records.serialize()"
      ],
      "metadata": {
        "id": "Hi6cVgWjfGpV"
      },
      "execution_count": null,
      "outputs": []
    },
    {
      "cell_type": "code",
      "source": [
        "print(Compounds_articulo_3)"
      ],
      "metadata": {
        "colab": {
          "base_uri": "https://localhost:8080/"
        },
        "id": "fdNM23hYfMKG",
        "outputId": "5d7cd012-dfb8-4766-a2d6-87e09098a2e8"
      },
      "execution_count": null,
      "outputs": [
        {
          "output_type": "stream",
          "name": "stdout",
          "text": [
            "[{'names': ['Al2O3']}, {'names': ['Co']}, {'names': ['[Pt(acac)2]']}, {'names': ['dichloromethane', 'DCM']}, {'names': ['mercury']}, {'names': ['[Pt(NH3)4](HCO3)2']}, {'names': ['Mo']}, {'names': ['alumina']}, {'names': ['acac', 'acetylacetonate']}, {'names': ['Co-Mo']}, {'names': ['Pt']}]\n"
          ]
        }
      ]
    },
    {
      "cell_type": "code",
      "source": [
        "articulo_4=Document(\n",
        "    Paragraph(u'The catalysts were prepared by impregnation of 3 wt% Ni and 10 wt% Mo on the thiol-functionalized silica supports. Typically, 1 g of each of 1RSH, 2RSH and 5RSH silica supports was dispersed in 0.1272 g of nickel(II) acetate tetrahydrate and 0.2224 g of ammonium molybdate tetrahydrate in deionized water. The solution was stirred continuously to near dry, then subjected to drying under ambient conditions. The air-dried samples were further dried in an oven at 100 °C for 12 h. The resultant catalyst oxides (1RSH-NM, 2RSH-NM and 5RSH-NM) were later subjected to in-situ activation. During the dispersion of 5RSH silica support in deionized water, the support was noticed to demonstrate some hydrophobicity due to the concentration of thiol group on the silica surface and therefore did not mix efficiently with the deionized water and the metal precursors at the early stage of stirring. Thus, another 1.0 g portion of 5RSH support was further dispersed in ethanol solution containing dissolved 0.1272 g of nickel(II) acetate tetrahydrate, and a concentrated solution of 0.2224 g of ammonium molybdate tetrahydrate was subsequently added to the mixture dropwise to ensure homogeneity of the system. The formed catalyst oxide, N-5RSH-M, was also subjected to the in-situ activation. For the purpose of comparison, an SBA-15-NiMo catalyst (reference) with equal loading of Ni and Mo as the RSH-NM series was also prepared and activated by the general sulfidation approach of catalyst oxide')\n",
        ")"
      ],
      "metadata": {
        "id": "ONRpyiApfq5b"
      },
      "execution_count": null,
      "outputs": []
    },
    {
      "cell_type": "code",
      "source": [
        "Compounds_articulo_4=articulo_4.records.serialize()"
      ],
      "metadata": {
        "id": "beCa4TXQhyCR"
      },
      "execution_count": null,
      "outputs": []
    },
    {
      "cell_type": "code",
      "source": [
        "print(Compounds_articulo_4)"
      ],
      "metadata": {
        "colab": {
          "base_uri": "https://localhost:8080/"
        },
        "id": "BoIgVmHLh4bP",
        "outputId": "7f077672-1893-4cc7-c1e4-43f533dd8075"
      },
      "execution_count": null,
      "outputs": [
        {
          "output_type": "stream",
          "name": "stdout",
          "text": [
            "[{'names': ['1RSH, 2RSH and 5RSH silica']}, {'names': ['catalyst oxides ( 1RSH-NM, 2RSH-NM and 5RSH-NM )']}, {'names': ['5RSH silica']}, {'names': ['ethanol']}, {'names': ['N-5RSH-M']}, {'names': ['SBA-15-NiMo']}, {'names': ['Ni']}, {'names': ['Mo']}, {'names': ['thiol']}, {'names': ['silica']}, {'names': ['nickel(II) acetate tetrahydrate']}, {'names': ['ammonium molybdate tetrahydrate']}]\n"
          ]
        }
      ]
    },
    {
      "cell_type": "code",
      "source": [
        "articulo_5=Document(\n",
        "    Paragraph(u'The alumina supported Mo-catalysts were prepared by pore-filling impregnation of a g-alumina (AX300, Criterion, 258 m2/g, 0.66 cm3/g) with an ammonium heptamolybdate solution.Samples were dried at 383 K overnight and calcined at 773 Kfor 3 h. The catalysts were denoted Mo4/Al, Mo9/Al and Mo12/Al for Mo contents of 4.2, 9.8 and 11.9 wt.% Mo, respectively.The CoMo/Al2O3 catalysts were prepared by impregnation of the molybdenum catalyst (Mo9/Al) with a cobalt nitratesolution, drying and finally calcination at 773 K for 3 h.Catalysts containing 1.6, 3.1 and 4.7 wt.% Co were prepared,and denoted Co1Mo9/Al, Co3Mo9/Al and Co5Mo9/Al, respectively.A silica supported molybdenum catalyst (Mo7Si, 7.2 wt.% Mo) was prepared by impregnation of a silica support (Degussa Aerosil 200) according to the previous procedure except that final calcination was performed at 623 K.')\n",
        ")"
      ],
      "metadata": {
        "id": "qS3-9sediCVx"
      },
      "execution_count": null,
      "outputs": []
    },
    {
      "cell_type": "code",
      "source": [
        "Compounds_articulo_5=articulo_5.records.serialize()"
      ],
      "metadata": {
        "id": "UskDFCO1mAgl"
      },
      "execution_count": null,
      "outputs": []
    },
    {
      "cell_type": "code",
      "source": [
        "print(Compounds_articulo_5)"
      ],
      "metadata": {
        "colab": {
          "base_uri": "https://localhost:8080/"
        },
        "id": "qwIboidbmFYy",
        "outputId": "26e34f58-228d-44b6-9274-9f5e10490d00"
      },
      "execution_count": null,
      "outputs": [
        {
          "output_type": "stream",
          "name": "stdout",
          "text": [
            "[{'names': ['alumina']}, {'names': ['g-alumina']}, {'names': ['ammonium heptamolybdate']}, {'names': ['Al']}, {'names': ['Al2O3']}, {'names': ['molybdenum']}, {'names': ['cobalt']}, {'names': ['Co']}, {'names': ['silica']}, {'names': ['Degussa']}, {'names': ['Aerosil']}, {'names': ['Mo']}]\n"
          ]
        }
      ]
    },
    {
      "cell_type": "code",
      "source": [
        "articulo_6=Document(\n",
        "    Paragraph(u'All samples were prepared by pore-volume impregnation of γ -Al2O3 pellets with metal-salt solutions. Cylindrical γ -Al2O3pellets (Engelhard, 3 mm in both length and diameter), whichwere calcined at 600 ◦C for 6 h and stored at 120 ◦C, were applied. The pore volume of this support material was 1.0 ml/g,and its surface area was 200 m2/g. The point of zero charge(pzc) of the γ -Al2O3 pellets was 8.9. The volume of the impregnated solutions was equal to the pore volume of the γ -Al2O3sample plus 10%. Impregnated samples were kept in a closed vessel to prevent dehydration. All samples were aged for 5 min, dried in a preheated tubular oven in a dry oxygen-free nitrogen flow at 120 ◦C for 2 h, and finally heated in nitrogen at 550 ◦C (at a heating rate of 3 ◦C/min) for 3 h. These samples are referred to as calcined samples (c). Samples are labeledx(w), x(d), and x(c), where x refers to the impregnation solution used (see below) and (w), (d), and (c) refer to wet, dried,and calcined samples, respectively. Wet [x(w)] and dried [x(d)]samples taken for analysis were discarded after UV–vis measurements to ensure that the calcined samples [x(c)] were not exposed to air after the start of the drying and calcination steps. The Co concentration in all impregnation solutions was 1.35 M, corresponding to a metal content of 8.0 wt% after reduction. This amount of metal contained within the sampleswas chosen because it is a compromise between obtaining good spectroscopic data, which is limited by high metal loadings, andrelevant FT catalysis, which is usually performed over catalysts with Co content >10 wt% [1]. The compositions of the impregnation solutions and the main absorption band in the visible part of the UV–vis spectra [14] are summarized in Tables 1 and 2, respectively. Dry EtOH (Merck, p.a.) was obtained by distillation from Mg and stored over 4-Å molecular sieves. A water-free solution of Co(NO3)2 in dry EtOH (2) was obtained by reacting 3.93 g (13.5 mmol) of Co(NO3)2·6H2O (Acros, p.a.)with 4.40 g (29.7 mmol) of ethyl orthoformate (Acros, p.a.)to remove crystal water. Excess ethyl orthoformate and EtOH,formed on reaction, were then removed under reduced pressure.The deep-purple anhydrous Co(NO3)2 crystals thus obtained were redissolved in dry EtOH in a dry nitrogen atmosphere to a total volume of 10 ml (1.35 M Co). Solution 4 was prepared in the same manner, with citric acid (OPG Pharma, p.a.)added to the Co(NO3)2·6H2O before reaction with ethyl orthoformate. Aqueous solutions containing citric acid as additional ligand (3 and 5) were prepared by dissolving the appropriate amount of citric acid in water before adding the Co salt[Co(NO3)2 and CoCO3 (Acros, p.a.), respectively]. Basic solution 6 was prepared as described in the patent literature [15];25.4 g (264 mmol) of (NH4)2CO3 (Acros, p.a.) was dissolved in 100 ml of a 25 wt% ammonia solution (Merck, p.a.) under gentle heating. Then 21.1 g (177.6 mmol) of CoCO3 was slowly added, and the mixture was stirred for 2 h at 40–45 ◦C. The solution was finally filtered over a cellulose filter and stored under a nitrogen atmosphere to prevent air oxidation.')\n",
        ")"
      ],
      "metadata": {
        "id": "-qtxzkDemJPn"
      },
      "execution_count": null,
      "outputs": []
    },
    {
      "cell_type": "code",
      "source": [
        "Compounds_articulo_6=articulo_6.records.serialize()"
      ],
      "metadata": {
        "id": "8ljbO3ElpVkQ"
      },
      "execution_count": null,
      "outputs": []
    },
    {
      "cell_type": "code",
      "source": [
        "print(Compounds_articulo_6)"
      ],
      "metadata": {
        "colab": {
          "base_uri": "https://localhost:8080/"
        },
        "id": "HnseVoeppb5i",
        "outputId": "544afce4-496b-4ec3-ec35-968e929d800c"
      },
      "execution_count": null,
      "outputs": [
        {
          "output_type": "stream",
          "name": "stdout",
          "text": [
            "[{'names': ['γ -Al2O3sample']}, {'names': ['oxygen']}, {'names': ['Mg']}, {'names': ['EtOH,formed']}, {'names': ['salt[Co(NO3)2']}, {'names': ['(NH4)2CO3']}, {'names': ['ammonia']}, {'names': ['-Al2O3']}, {'names': ['Co(NO3)2']}, {'names': ['Co(NO3)2·6H2O']}, {'names': ['EtOH'], 'labels': ['2']}, {'names': ['Co']}, {'names': ['citric acid']}, {'names': ['ethyl orthoformate']}, {'names': ['CoCO3']}, {'names': ['nitrogen']}]\n"
          ]
        }
      ]
    },
    {
      "cell_type": "code",
      "source": [
        "articulo_7=Document(\n",
        "    Paragraph(u'Commercial γ-Al2O3 (from RIPP) was impregnated by the pore volume method with an aqueous Mg(NO3)2 solution in order to prepare supports with different magnesium loadings. The supports, denoted as Al2O3Mg(x), where x is the weight percentage of magnesium (x = 0, 0.7, 1.5, 3.2), were dried at 393 K for 3 h and then calcined at 773 K for 4 h. The support with B and Mg co-presence was prepared by sequential impregnation with B and Mg, using respectively boric acid and magnesium nitrate as precursors. ')\n",
        ")"
      ],
      "metadata": {
        "id": "LeDy_yRyrCG_"
      },
      "execution_count": null,
      "outputs": []
    },
    {
      "cell_type": "code",
      "source": [
        "Compounds_articulo_7=articulo_7.records.serialize()"
      ],
      "metadata": {
        "id": "_ZZ0g2y8r3By"
      },
      "execution_count": null,
      "outputs": []
    },
    {
      "cell_type": "code",
      "source": [
        "print(Compounds_articulo_7)"
      ],
      "metadata": {
        "colab": {
          "base_uri": "https://localhost:8080/"
        },
        "id": "zFFm4Qlbr72Z",
        "outputId": "8b29ff6e-2284-412a-acdc-ad297a782aee"
      },
      "execution_count": null,
      "outputs": [
        {
          "output_type": "stream",
          "name": "stdout",
          "text": [
            "[{'names': ['γ-Al2O3']}, {'names': ['Mg(NO3)2']}, {'names': ['Al2O3Mg(x)']}, {'names': ['Mg']}, {'names': ['boric acid']}, {'names': ['magnesium nitrate']}, {'names': ['magnesium']}]\n"
          ]
        }
      ]
    },
    {
      "cell_type": "code",
      "source": [
        "articulo_8=Document(\n",
        "    Paragraph(u'Mesoporous LaAlOx oxides with 1.0 wt.% La mass contents were fabricated through an enhanced solvent evaporation induced self-assembly method. During preparation, P123 (average Mn-5800) serving as structure directing agent, La(NO3)3·6H2O (99%) as lanthanum source, Al(O-i-Pr)3 (99.99%) as aluminum source. Ethanol absolute (EtOH, 98%) as solvent. The typical procedure is described as follows: First, 8.2 g of Al(O-i-Pr)3 was dispersed in a three-necked flask with 20 mL of EtOH and stirred for 4 h followed by the introduction of 3.2 mL of HNO3 (>68.0%) within 10 minutes and stirred for another 0.5 h. Then 4.0 g of P123 was completely dissolved into 20 mL absolute ethanol and slowly dropwise into the aforementioned solution and continue stirring for another 2 h. Finally, a certain quality of La(NO3)3·6H2O was subsequently dissolved into 10 mL of absolute ethanol and then introduced into the above solution to obtain the precursor solution after 12 h. Then LaAlOx binary oxide was obtained by drying the above precursor solution at 120 °C for two days and calcinating at 550 °C in air for 4 h. Bimetallic NiMo/LaAlOx was fabricated by a wetness incipient impregnation method. In a typical preparation, a certain volume of deionized water solution containing calculated amount of Ni(NO3)2·6H2O (>99.8%) and (NH4)6Mo7O24·4H2O (>99.8%) was dropwise to the 1.0 g of as-prepared LaAlOx binary oxide powders followed by drying and calcining at 120 °C in air for 6 h. Finally, NiMo/LaAlOx catalyst with 12.0 wt.% MoO3 and 4.0 wt.% NiO was obtained by calcining the above precursor powders at 550 °C in air for 4 h.')\n",
        ")"
      ],
      "metadata": {
        "id": "SJcofvtRsJiS"
      },
      "execution_count": null,
      "outputs": []
    },
    {
      "cell_type": "code",
      "source": [
        "Compounds_articulo_8=articulo_8.records.serialize()"
      ],
      "metadata": {
        "id": "yh98AYhhvmd0"
      },
      "execution_count": null,
      "outputs": []
    },
    {
      "cell_type": "code",
      "source": [
        "print(Compounds_articulo_8)"
      ],
      "metadata": {
        "colab": {
          "base_uri": "https://localhost:8080/"
        },
        "id": "sPSQ_LGTvst1",
        "outputId": "2347aa5a-f4c4-4867-bb77-3b5aef511a95"
      },
      "execution_count": null,
      "outputs": [
        {
          "output_type": "stream",
          "name": "stdout",
          "text": [
            "[{'names': ['LaAlOx oxides']}, {'names': ['Mn-5800']}, {'names': ['lanthanum']}, {'names': ['aluminum']}, {'names': ['Ethanol absolute']}, {'names': ['HNO3']}, {'names': ['oxide']}, {'names': ['Ni(NO3)2·6H2O']}, {'names': ['(NH4)6Mo7O24·4H2O']}, {'names': ['LaAlOx binary oxide']}, {'names': ['MoO3']}, {'names': ['NiO']}, {'names': ['La(NO3)3·6H2O']}, {'names': ['EtOH']}, {'names': ['ethanol']}, {'names': ['NiMo']}]\n"
          ]
        }
      ]
    },
    {
      "cell_type": "code",
      "source": [
        "articulo_9=Document(\n",
        "    Paragraph(u'Commercial ultra-stable zeolites, USY (Zeolyst international, molar SiO2/Al2O3 = 30, and 80, hereafter referred to as Y30 and Y80) were calcined in air at 550 °C for 6 h before use. Y80 was dealuminated using 3 M oxalic acid (98%, Aldrich) at 70 °C, stirring at 500 rpm [52]. The time of oxalic acid treatment was varied (16 h and 95 h) to obtain Y zeolites with different levels of dealumination (hereafter termed as Y150 and Y200). Thereafter, the sample was thoroughly washed with Milli-Q water to neutralize the pH. It was then oven-dried (80 °C, overnight), and calcined at 550 °C for 6 h. The pristine Y80 zeolite was also desilicated using 0.2 M (NaOH + tetrapropylammonium bromide, TPABr (PDA)) (98%, Sigma-Aldrich) at 25 °C for 0.5 h. Afterward, the sample was washed to neutralize the pH, oven-dried and calcined. The desilicated sample was further exchanged with 0.5 M NH4NO3 at 60 °C for 1 h in three consecutive cycles of ion exchange and centrifugation. The final sample after extensive water washing was dried at 80 °C overnight and calcined at 550 °C for 6 h. Ni and Mo were loaded onto commercial and dealuminated/desilicated USY-zeolite samples using a wet impregnation method. The required amount of ammonium molybdate tetrahydrate (99%, Sigma-Aldrich) and nickel (II) nitrate hexahydrate (99%, Sigma-Aldrich) was first dissolved in water and then added dropwise to the zeolite. The mixture was then stirred for 0.5 h at 25 °C. Water was removed via rotary evaporation (85 °C). The resultant mixture was then oven-dried and calcined in air at 450 °C (5 °C/min) for 4 h. The resulting catalysts are abbreviated as NiMo(D)YXX where NiMo stands for Ni and Mo, D for desilication when used, Y for ultra-stable Y zeolite, and XX for the silica-alumina ratio.')\n",
        ")"
      ],
      "metadata": {
        "id": "fxUIrfJUwQJj"
      },
      "execution_count": null,
      "outputs": []
    },
    {
      "cell_type": "code",
      "source": [
        "Compounds_articulo_9=articulo_9.records.serialize()"
      ],
      "metadata": {
        "id": "1dS4JIhwxbWU"
      },
      "execution_count": null,
      "outputs": []
    },
    {
      "cell_type": "code",
      "source": [
        "print(Compounds_articulo_9)"
      ],
      "metadata": {
        "colab": {
          "base_uri": "https://localhost:8080/"
        },
        "id": "XeRZW5sBxbFh",
        "outputId": "40c2800c-df94-474a-b242-36813d403e90"
      },
      "execution_count": null,
      "outputs": [
        {
          "output_type": "stream",
          "name": "stdout",
          "text": [
            "[{'names': ['SiO2']}, {'names': ['Al2O3']}, {'names': ['3 M oxalic acid']}, {'names': ['oxalic acid']}, {'names': ['Milli-Q']}, {'names': ['NaOH']}, {'names': ['tetrapropylammonium bromide']}, {'names': ['TPABr', 'PDA']}, {'names': ['NH4NO3']}, {'names': ['ammonium molybdate tetrahydrate']}, {'names': ['nickel ( II ) nitrate hexahydrate']}, {'names': ['NiMo(D)YXX']}, {'names': ['NiMo']}, {'names': ['silica']}, {'names': ['alumina']}, {'names': ['zeolites']}, {'names': ['Ni']}, {'names': ['Mo']}, {'names': ['zeolite']}]\n"
          ]
        }
      ]
    },
    {
      "cell_type": "code",
      "source": [
        "print(doc)"
      ],
      "metadata": {
        "colab": {
          "base_uri": "https://localhost:8080/",
          "height": 169
        },
        "id": "Z2sJaKEhsRcB",
        "outputId": "5f1d0a12-0bdd-4177-f74a-46a464482943"
      },
      "execution_count": null,
      "outputs": [
        {
          "output_type": "error",
          "ename": "NameError",
          "evalue": "ignored",
          "traceback": [
            "\u001b[0;31m---------------------------------------------------------------------------\u001b[0m",
            "\u001b[0;31mNameError\u001b[0m                                 Traceback (most recent call last)",
            "\u001b[0;32m<ipython-input-37-df277df866a5>\u001b[0m in \u001b[0;36m<module>\u001b[0;34m\u001b[0m\n\u001b[0;32m----> 1\u001b[0;31m \u001b[0mprint\u001b[0m\u001b[0;34m(\u001b[0m\u001b[0mdoc\u001b[0m\u001b[0;34m)\u001b[0m\u001b[0;34m\u001b[0m\u001b[0;34m\u001b[0m\u001b[0m\n\u001b[0m",
            "\u001b[0;31mNameError\u001b[0m: name 'doc' is not defined"
          ]
        }
      ]
    },
    {
      "cell_type": "code",
      "source": [
        "print(d)"
      ],
      "metadata": {
        "id": "wMyo0j7urROL"
      },
      "execution_count": null,
      "outputs": []
    },
    {
      "cell_type": "code",
      "source": [
        "d.records.serialize()"
      ],
      "metadata": {
        "id": "QhDs3vt_rc1S"
      },
      "execution_count": null,
      "outputs": []
    },
    {
      "cell_type": "code",
      "source": [
        "doc.records.serialize()"
      ],
      "metadata": {
        "id": "xyE82piOsjR6"
      },
      "execution_count": null,
      "outputs": []
    },
    {
      "cell_type": "code",
      "source": [],
      "metadata": {
        "id": "VVFxloLvsjKL"
      },
      "execution_count": null,
      "outputs": []
    }
  ]
}